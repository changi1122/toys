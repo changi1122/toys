{
 "cells": [
  {
   "cell_type": "code",
   "execution_count": null,
   "metadata": {},
   "outputs": [],
   "source": [
    "# [데이터 출처]\n",
    "# 전국주차장정보표준데이터\n",
    "# https://www.data.go.kr/data/15012896/standard.do"
   ]
  },
  {
   "cell_type": "code",
   "execution_count": 3,
   "metadata": {},
   "outputs": [
    {
     "name": "stderr",
     "output_type": "stream",
     "text": [
      "C:\\Users\\chang\\AppData\\Local\\Temp\\ipykernel_4100\\1388093372.py:3: DtypeWarning: Columns (20,23,32) have mixed types. Specify dtype option on import or set low_memory=False.\n",
      "  parkinglot = pd.read_csv('parkinglot.csv', encoding='cp949')\n"
     ]
    },
    {
     "data": {
      "text/html": [
       "<div>\n",
       "<style scoped>\n",
       "    .dataframe tbody tr th:only-of-type {\n",
       "        vertical-align: middle;\n",
       "    }\n",
       "\n",
       "    .dataframe tbody tr th {\n",
       "        vertical-align: top;\n",
       "    }\n",
       "\n",
       "    .dataframe thead th {\n",
       "        text-align: right;\n",
       "    }\n",
       "</style>\n",
       "<table border=\"1\" class=\"dataframe\">\n",
       "  <thead>\n",
       "    <tr style=\"text-align: right;\">\n",
       "      <th></th>\n",
       "      <th>주차장명</th>\n",
       "      <th>위도</th>\n",
       "      <th>경도</th>\n",
       "    </tr>\n",
       "  </thead>\n",
       "  <tbody>\n",
       "    <tr>\n",
       "      <th>0</th>\n",
       "      <td>횡계의원 뒤 1주차장</td>\n",
       "      <td>37.671701</td>\n",
       "      <td>128.707965</td>\n",
       "    </tr>\n",
       "    <tr>\n",
       "      <th>1</th>\n",
       "      <td>횡계의원 뒤 2주차장</td>\n",
       "      <td>37.671447</td>\n",
       "      <td>128.707964</td>\n",
       "    </tr>\n",
       "    <tr>\n",
       "      <th>2</th>\n",
       "      <td>오삼불고기거리 주차장</td>\n",
       "      <td>37.672446</td>\n",
       "      <td>128.708479</td>\n",
       "    </tr>\n",
       "    <tr>\n",
       "      <th>3</th>\n",
       "      <td>하이랜드 옆 1주차장</td>\n",
       "      <td>37.673161</td>\n",
       "      <td>128.709291</td>\n",
       "    </tr>\n",
       "    <tr>\n",
       "      <th>4</th>\n",
       "      <td>하이랜드 옆 2주차장</td>\n",
       "      <td>37.673531</td>\n",
       "      <td>128.709376</td>\n",
       "    </tr>\n",
       "    <tr>\n",
       "      <th>...</th>\n",
       "      <td>...</td>\n",
       "      <td>...</td>\n",
       "      <td>...</td>\n",
       "    </tr>\n",
       "    <tr>\n",
       "      <th>16927</th>\n",
       "      <td>행운주차장</td>\n",
       "      <td>NaN</td>\n",
       "      <td>NaN</td>\n",
       "    </tr>\n",
       "    <tr>\n",
       "      <th>16928</th>\n",
       "      <td>향토주차장</td>\n",
       "      <td>NaN</td>\n",
       "      <td>NaN</td>\n",
       "    </tr>\n",
       "    <tr>\n",
       "      <th>16929</th>\n",
       "      <td>현대주차장</td>\n",
       "      <td>35.162277</td>\n",
       "      <td>129.159375</td>\n",
       "    </tr>\n",
       "    <tr>\n",
       "      <th>16930</th>\n",
       "      <td>흥안인더스트리</td>\n",
       "      <td>NaN</td>\n",
       "      <td>NaN</td>\n",
       "    </tr>\n",
       "    <tr>\n",
       "      <th>16931</th>\n",
       "      <td>미포주차장</td>\n",
       "      <td>NaN</td>\n",
       "      <td>NaN</td>\n",
       "    </tr>\n",
       "  </tbody>\n",
       "</table>\n",
       "<p>16932 rows × 3 columns</p>\n",
       "</div>"
      ],
      "text/plain": [
       "              주차장명         위도          경도\n",
       "0      횡계의원 뒤 1주차장  37.671701  128.707965\n",
       "1      횡계의원 뒤 2주차장  37.671447  128.707964\n",
       "2      오삼불고기거리 주차장  37.672446  128.708479\n",
       "3      하이랜드 옆 1주차장  37.673161  128.709291\n",
       "4      하이랜드 옆 2주차장  37.673531  128.709376\n",
       "...            ...        ...         ...\n",
       "16927        행운주차장        NaN         NaN\n",
       "16928        향토주차장        NaN         NaN\n",
       "16929        현대주차장  35.162277  129.159375\n",
       "16930      흥안인더스트리        NaN         NaN\n",
       "16931        미포주차장        NaN         NaN\n",
       "\n",
       "[16932 rows x 3 columns]"
      ]
     },
     "execution_count": 3,
     "metadata": {},
     "output_type": "execute_result"
    }
   ],
   "source": [
    "import pandas as pd\n",
    "\n",
    "parkinglot = pd.read_csv('parkinglot.csv', encoding='cp949')\n",
    "\n",
    "# 필요 없는 컬럼 삭제\n",
    "cols_to_drop = parkinglot.columns.difference(['주차장명', '위도', '경도'])\n",
    "parkinglot = parkinglot.drop(cols_to_drop, axis=1)\n",
    "parkinglot"
   ]
  },
  {
   "cell_type": "code",
   "execution_count": 4,
   "metadata": {},
   "outputs": [
    {
     "data": {
      "text/plain": [
       "(13849, 3)"
      ]
     },
     "execution_count": 4,
     "metadata": {},
     "output_type": "execute_result"
    }
   ],
   "source": [
    "# 위도 경도 결측치를 포함한 행 제거\n",
    "parkinglot = parkinglot.dropna()\n",
    "parkinglot.shape"
   ]
  },
  {
   "cell_type": "code",
   "execution_count": 10,
   "metadata": {},
   "outputs": [],
   "source": [
    "import pymysql\n",
    "from dotenv import load_dotenv\n",
    "import os\n",
    "\n",
    "# DB 비밀번호 불러오기\n",
    "load_dotenv()\n",
    "db_password = os.getenv(\"DB_PASSWORD\")\n",
    "\n",
    "# MySQL Connection 연결\n",
    "conn = pymysql.connect(host='localhost', user='root' , password=db_password, db='parkinglot', charset='utf8')"
   ]
  },
  {
   "cell_type": "code",
   "execution_count": 20,
   "metadata": {},
   "outputs": [],
   "source": [
    "# Cursor 객체 생성\n",
    "cursor = conn.cursor()\n",
    "\n",
    "# 단순 double 자료형 저장 테이블 생성\n",
    "cursor.execute(\"DROP TABLE IF EXISTS parkinglot_double\")\n",
    "\n",
    "double_table_query = \"\"\"\n",
    "CREATE TABLE parkinglot_double (\n",
    "    id INT AUTO_INCREMENT PRIMARY KEY,\n",
    "    name VARCHAR(200),\n",
    "    latitude DOUBLE,\n",
    "    longitude DOUBLE\n",
    ")\n",
    "\"\"\"\n",
    "cursor.execute(double_table_query)\n",
    "conn.commit()\n",
    "\n",
    "\n",
    "# point 자료형 저장 테이블 생성\n",
    "cursor.execute(\"DROP TABLE IF EXISTS parkinglot_point\")\n",
    "\n",
    "point_table_query = \"\"\"\n",
    "CREATE TABLE parkinglot_point (\n",
    "    id INT AUTO_INCREMENT PRIMARY KEY,\n",
    "    name VARCHAR(200),\n",
    "    location POINT NOT NULL\n",
    ")\n",
    "\"\"\"\n",
    "cursor.execute(point_table_query)\n",
    "conn.commit()\n",
    "\n",
    "\n",
    "# point 자료형 with index 저장 테이블 생성\n",
    "cursor.execute(\"DROP TABLE IF EXISTS parkinglot_pointindex\")\n",
    "\n",
    "pointindex_table_query = \"\"\"\n",
    "CREATE TABLE parkinglot_pointindex (\n",
    "    id INT AUTO_INCREMENT PRIMARY KEY,\n",
    "    name VARCHAR(200),\n",
    "    location POINT NOT NULL,\n",
    "    spatial index (location)\n",
    ")\n",
    "\"\"\"\n",
    "cursor.execute(pointindex_table_query)\n",
    "conn.commit()\n"
   ]
  },
  {
   "cell_type": "code",
   "execution_count": null,
   "metadata": {},
   "outputs": [],
   "source": [
    "# 데이터 저장"
   ]
  }
 ],
 "metadata": {
  "kernelspec": {
   "display_name": "Python 3",
   "language": "python",
   "name": "python3"
  },
  "language_info": {
   "codemirror_mode": {
    "name": "ipython",
    "version": 3
   },
   "file_extension": ".py",
   "mimetype": "text/x-python",
   "name": "python",
   "nbconvert_exporter": "python",
   "pygments_lexer": "ipython3",
   "version": "3.10.13"
  }
 },
 "nbformat": 4,
 "nbformat_minor": 2
}
